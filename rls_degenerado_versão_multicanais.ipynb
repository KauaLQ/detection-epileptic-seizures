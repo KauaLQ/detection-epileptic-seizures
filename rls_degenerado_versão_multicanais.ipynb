{
  "nbformat": 4,
  "nbformat_minor": 0,
  "metadata": {
    "colab": {
      "provenance": [],
      "mount_file_id": "1pKMj-M37ihjR8YsSrUV5re1a2YYtXKOh",
      "authorship_tag": "ABX9TyOVObBxxxXwaekbtUUuf3Wj"
    },
    "kernelspec": {
      "name": "python3",
      "display_name": "Python 3"
    },
    "language_info": {
      "name": "python"
    }
  },
  "cells": [
    {
      "cell_type": "code",
      "source": [
        "!pip install mne numpy matplotlib"
      ],
      "metadata": {
        "id": "lKGlsOHhocXm",
        "collapsed": true
      },
      "execution_count": null,
      "outputs": []
    },
    {
      "cell_type": "code",
      "source": [
        "# --- Função RLS ---\n",
        "class RLSFilter:\n",
        "    def __init__(self, order, lambda_, delta):\n",
        "        self.order = order\n",
        "        self.lambda_ = lambda_\n",
        "        self.delta = delta\n",
        "        self.w = np.zeros(order)\n",
        "        self.P = (1.0 / delta) * np.eye(order)\n",
        "\n",
        "    def predict(self, x):\n",
        "        return np.dot(self.w, x)\n",
        "\n",
        "    def update(self, x, d):\n",
        "        x = x.reshape(-1, 1)\n",
        "        pi = self.P @ x\n",
        "        k = pi / (self.lambda_ + x.T @ pi)\n",
        "        e = d - self.w @ x.ravel()\n",
        "        self.w += (k.ravel() * e)\n",
        "        self.P = (self.P - k @ x.T @ self.P) / self.lambda_\n",
        "        return e"
      ],
      "metadata": {
        "id": "6los5yIapbfc"
      },
      "execution_count": 2,
      "outputs": []
    },
    {
      "cell_type": "markdown",
      "source": [
        "**Os canais variam por paciente, mas em geral, os mais utilizados para detectar crises epilépticas são os frontais e temporais, como:**\n",
        "\n",
        "- 'FP1-F7'\n",
        "\n",
        "- 'F7-T7'\n",
        "\n",
        "- 'T7-P7'\n",
        "\n",
        "- 'FP2-F8'\n",
        "\n",
        "- 'F8-T8'\n",
        "\n",
        "- 'T8-P8'"
      ],
      "metadata": {
        "id": "gFxFOZTFyZKV"
      }
    },
    {
      "cell_type": "code",
      "execution_count": 9,
      "metadata": {
        "colab": {
          "base_uri": "https://localhost:8080/"
        },
        "id": "B820wfVAn3co",
        "outputId": "7834e62c-0114-4cc0-cd3b-69a6cbb110cb"
      },
      "outputs": [
        {
          "output_type": "stream",
          "name": "stdout",
          "text": [
            "Extracting EDF parameters from /content/drive/MyDrive/BOLSA PIBIC - KAUÃ E TIAGO/DATABASES/chb01_18.edf...\n",
            "EDF file detected\n",
            "Setting channel info structure...\n",
            "Creating raw.info structure...\n",
            "Reading 0 ... 921599  =      0.000 ...  3599.996 secs...\n"
          ]
        },
        {
          "output_type": "stream",
          "name": "stderr",
          "text": [
            "/tmp/ipython-input-9-3802395044.py:20: RuntimeWarning: Channel names are not unique, found duplicates for: {'T8-P8'}. Applying running numbers for duplicates.\n",
            "  raw = mne.io.read_raw_edf(\"/content/drive/MyDrive/BOLSA PIBIC - KAUÃ E TIAGO/DATABASES/chb01_18.edf\", preload=True)\n"
          ]
        },
        {
          "output_type": "stream",
          "name": "stdout",
          "text": [
            "Analisando canal: FP1-F7\n",
            "Analisando canal: T7-P7\n",
            "Analisando canal: F7-T7\n"
          ]
        }
      ],
      "source": [
        "import numpy as np\n",
        "import matplotlib.pyplot as plt\n",
        "import mne\n",
        "from scipy.ndimage import label\n",
        "\n",
        "# --- Parâmetros ---\n",
        "channels = ['FP1-F7', 'T7-P7', 'F7-T7']  # Lista dos canais que você quer analisar\n",
        "order = 0 # order = 5\n",
        "lambda_ = 0.99 # lambda_ = 1.50\n",
        "delta = 0.1\n",
        "k = 6  # Multiplicador do limiar (k=9 original)\n",
        "duracao_minima = 10  # segundos (5 original)\n",
        "tolerancia_entre_eventos = 2.0  # segundos\n",
        "tolerancia_entre_crises = 25.0  # segundos\n",
        "\n",
        "# Crises reais anotadas manualmente (exemplo)\n",
        "crises_reais = [(1720, 1810)]  # em segundos\n",
        "\n",
        "# --- Carregar arquivo\n",
        "raw = mne.io.read_raw_edf(\"/content/drive/MyDrive/BOLSA PIBIC - KAUÃ E TIAGO/DATABASES/chb01_18.edf\", preload=True)\n",
        "sfreq = raw.info['sfreq']\n",
        "\n",
        "# --- Para armazenar eventos detectados por canal\n",
        "resultados_canais = {}\n",
        "\n",
        "for channel in channels:\n",
        "    print(f\"Analisando canal: {channel}\")\n",
        "\n",
        "    # Extrair sinal\n",
        "    data, times = raw.get_data(picks=[channel], return_times=True)\n",
        "    signal = data[0]\n",
        "    signal = (signal - np.mean(signal)) / np.std(signal)\n",
        "\n",
        "    # Aplicar RLS\n",
        "    rls = RLSFilter(order, lambda_, delta)\n",
        "    errors = []\n",
        "\n",
        "    for i in range(order, len(signal)):\n",
        "        x = signal[i-order:i][::-1]\n",
        "        d = signal[i]\n",
        "        e = rls.update(x, d)\n",
        "        errors.append(e)\n",
        "\n",
        "    errors = np.array(errors)\n",
        "    error_energy = errors ** 2\n",
        "\n",
        "    # Definir limiar\n",
        "    mean_err = np.mean(error_energy)\n",
        "    std_err = np.std(error_energy)\n",
        "    limiar = mean_err + k * std_err\n",
        "\n",
        "    # Detecção inicial\n",
        "    deteccao = error_energy > limiar\n",
        "    labels, num_events = label(deteccao)\n",
        "\n",
        "    eventos_raw = []\n",
        "    for i in range(1, num_events + 1):\n",
        "        indices = np.where(labels == i)[0]\n",
        "        if len(indices) == 0:\n",
        "            continue\n",
        "        t_inicio = times[order:][indices[0]]\n",
        "        t_fim = times[order:][indices[-1]]\n",
        "        eventos_raw.append((t_inicio, t_fim))\n",
        "\n",
        "    # Agrupar eventos próximos\n",
        "    eventos_agrupados = []\n",
        "    if eventos_raw:\n",
        "        atual_inicio, atual_fim = eventos_raw[0]\n",
        "        for inicio, fim in eventos_raw[1:]:\n",
        "            if inicio - atual_fim <= tolerancia_entre_eventos:\n",
        "                atual_fim = fim\n",
        "            else:\n",
        "                eventos_agrupados.append((atual_inicio, atual_fim))\n",
        "                atual_inicio, atual_fim = inicio, fim\n",
        "        eventos_agrupados.append((atual_inicio, atual_fim))\n",
        "\n",
        "    # Filtrar por duração mínima\n",
        "    eventos_finais = []\n",
        "    for inicio, fim in eventos_agrupados:\n",
        "        duracao = fim - inicio\n",
        "        if duracao >= duracao_minima:\n",
        "            eventos_finais.append((inicio, fim))\n",
        "\n",
        "    resultados_canais[channel] = eventos_finais\n",
        "\n",
        "# --- JUNTA eventos de todos canais ---\n",
        "todos_eventos = []\n",
        "for canal, eventos in resultados_canais.items():\n",
        "    for inicio, fim in eventos:\n",
        "        todos_eventos.append((inicio, fim, canal))\n",
        "\n",
        "todos_eventos.sort()  # Organizar por início\n",
        "\n",
        "# --- Fusão de crises\n",
        "crises_confiaveis = []\n",
        "crises_sem_credibilidade = []\n",
        "\n",
        "if todos_eventos:\n",
        "    inicio_atual, fim_atual, canais_ativos = todos_eventos[0][0], todos_eventos[0][1], {todos_eventos[0][2]}\n",
        "\n",
        "    for evento in todos_eventos[1:]:\n",
        "        inicio, fim, canal = evento\n",
        "        if inicio <= fim_atual:\n",
        "            fim_atual = max(fim_atual, fim)\n",
        "            canais_ativos.add(canal)\n",
        "        else:\n",
        "            if len(canais_ativos) > 1:\n",
        "                crises_confiaveis.append((inicio_atual, fim_atual, canais_ativos.copy()))\n",
        "            else:\n",
        "                crises_sem_credibilidade.append((inicio_atual, fim_atual, list(canais_ativos)[0]))\n",
        "            inicio_atual, fim_atual, canais_ativos = inicio, fim, {canal}\n",
        "\n",
        "    # Adicionar última crise\n",
        "    if len(canais_ativos) > 1:\n",
        "        crises_confiaveis.append((inicio_atual, fim_atual, canais_ativos.copy()))\n",
        "    else:\n",
        "        crises_sem_credibilidade.append((inicio_atual, fim_atual, list(canais_ativos)[0]))"
      ]
    },
    {
      "cell_type": "code",
      "source": [
        "# --- Resultados Finais\n",
        "print(\"\\n🧠 Crises confiáveis detectadas:\")\n",
        "for inicio, fim, canais in crises_confiaveis:\n",
        "    print(f\"- De {inicio:.2f}s até {fim:.2f}s | Canais: {', '.join(canais)}\")\n",
        "\n",
        "print(\"\\n⚠️ Crises sem credibilidade detectadas:\")\n",
        "for inicio, fim, canal in crises_sem_credibilidade:\n",
        "    print(f\"- De {inicio:.2f}s até {fim:.2f}s | Canal: {canal}\")\n",
        "\n",
        "# --- Plot\n",
        "plt.figure(figsize=(15, 5))\n",
        "plt.plot(times[order:], error_energy, label=\"RLS Error²\") # essa plotagem não é adequada porque mostra só um canal, e nós estamos fazendo uma analise multicanal\n",
        "\n",
        "for inicio, fim, _ in crises_confiaveis:\n",
        "    plt.axvspan(inicio, fim, color='green', alpha=0.4, label='Reliable Seizure')\n",
        "\n",
        "for inicio, fim, _ in crises_sem_credibilidade:\n",
        "    plt.axvspan(inicio, fim, color='yellow', alpha=0.4, label='Seizure without credibility')\n",
        "\n",
        "\n",
        "# Adicionando as áreas de crise real\n",
        "for inicio, fim in crises_reais:\n",
        "    plt.axvspan(inicio, fim, color='red', alpha=0.3, label='Real Seizure')\n",
        "\n",
        "# Para evitar repetição da legenda se houver várias crises:\n",
        "handles, labels = plt.gca().get_legend_handles_labels()\n",
        "by_label = dict(zip(labels, handles))\n",
        "plt.legend(by_label.values(), by_label.keys())\n",
        "plt.title(\"Seizures Detection (Multiple Channels)\")\n",
        "plt.xlabel(\"Time (s)\")\n",
        "plt.ylabel(\"Detection\")\n",
        "plt.legend(loc='upper right')\n",
        "plt.grid(True)\n",
        "plt.show()"
      ],
      "metadata": {
        "colab": {
          "base_uri": "https://localhost:8080/",
          "height": 574
        },
        "id": "8NyRvOMspUid",
        "outputId": "2d393ef6-91fc-4ea6-9233-851ed4a975a8"
      },
      "execution_count": 10,
      "outputs": [
        {
          "output_type": "stream",
          "name": "stdout",
          "text": [
            "\n",
            "🧠 Crises confiáveis detectadas:\n",
            "- De 1731.98s até 1809.01s | Canais: FP1-F7, F7-T7, T7-P7\n",
            "\n",
            "⚠️ Crises sem credibilidade detectadas:\n"
          ]
        },
        {
          "output_type": "display_data",
          "data": {
            "text/plain": [
              "<Figure size 1500x500 with 1 Axes>"
            ],
            "image/png": "[encoded data removed]"
          },
          "metadata": {}
        }
      ]
    },
    {
      "cell_type": "code",
      "source": [
        "from sklearn.metrics import classification_report, confusion_matrix\n",
        "\n",
        "# --- Converter eventos detectados em rótulos binários por segundo\n",
        "def gerar_labels(crises, duracao_total, taxa_amostragem):\n",
        "    labels = [0] * int(duracao_total)\n",
        "    for inicio, fim in crises:\n",
        "        for i in range(int(inicio), int(fim)):\n",
        "            if i < len(labels):\n",
        "                labels[i] = 1\n",
        "    return labels\n",
        "\n",
        "# Tempo total do sinal (em segundos)\n",
        "duracao_total = int(times[-1])\n",
        "\n",
        "# Crises detectadas (usar crises_confiaveis ou crises_sem_credibilidade)\n",
        "crises_detectadas = [(ini, fim) for ini, fim, _ in crises_confiaveis]\n",
        "\n",
        "# Geração dos vetores binários\n",
        "y_true = gerar_labels(crises_reais, duracao_total, sfreq)\n",
        "y_pred = gerar_labels(crises_detectadas, duracao_total, sfreq)\n",
        "\n",
        "# Imprimir resultados\n",
        "print(\"Matriz de confusão:\")\n",
        "print(confusion_matrix(y_true, y_pred))\n",
        "print(\"\\nRelatório de classificação:\")\n",
        "print(classification_report(y_true, y_pred))"
      ],
      "metadata": {
        "colab": {
          "base_uri": "https://localhost:8080/"
        },
        "id": "iVoHT5X6bdRW",
        "outputId": "dcb3a964-5b9e-4e92-e97a-cb98325012df"
      },
      "execution_count": 11,
      "outputs": [
        {
          "output_type": "stream",
          "name": "stdout",
          "text": [
            "Matriz de confusão:\n",
            "[[3509    0]\n",
            " [  12   78]]\n",
            "\n",
            "Relatório de classificação:\n",
            "              precision    recall  f1-score   support\n",
            "\n",
            "           0       1.00      1.00      1.00      3509\n",
            "           1       1.00      0.87      0.93        90\n",
            "\n",
            "    accuracy                           1.00      3599\n",
            "   macro avg       1.00      0.93      0.96      3599\n",
            "weighted avg       1.00      1.00      1.00      3599\n",
            "\n"
          ]
        }
      ]
    },
    {
      "cell_type": "markdown",
      "source": [
        "**matriz de confusão:**\n",
        "\n",
        "[[VN FP]\n",
        "\n",
        "[FN VP]]\n",
        "\n",
        "**precisão:** é o número de exemplos que seu modelo previu como positivos e acertou dividido pelo número total de exemplos que ele previu como positivos. Ou seja, ele leva em consideração principalmente se o modelo teve algum falso positivo ou falso negativo (depende se ele está analisando 0 ou 1).\n",
        "\n",
        "**recall:** é o número de pessoas que o modelo identificou corretamente como tendo a doença dividido pelo número total de pessoas que realmente têm a doença nos seus dados. Ou seja, ele leva em consideração apenas quantos positivos tinha e quantos positivos o modelo previu (o mesmo serve quando ele está analisando os casos 0).\n",
        "\n",
        "**f1-score:** Ele é a média harmônica entre a precisão e o recall.\n",
        "\n",
        "**macro avg:** é a media do resultado de 0 e 1 da métrica correspondente."
      ],
      "metadata": {
        "id": "WJM3QayRhB3l"
      }
    }
  ]
}